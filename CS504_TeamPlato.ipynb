{
 "cells": [
  {
   "cell_type": "code",
   "execution_count": 1,
   "metadata": {},
   "outputs": [],
   "source": [
    "import pandas as pd\n",
    "\n",
    "excelWorkbook = pd.ExcelFile('worldbank_2019_data.xlsx') \n",
    "\n",
    "df = pd.read_excel(excelWorkbook, 0)\n",
    "countries = pd.read_excel(excelWorkbook, 1)\n",
    "indicators = pd.read_excel(excelWorkbook, 2)"
   ]
  },
  {
   "cell_type": "code",
   "execution_count": 2,
   "metadata": {},
   "outputs": [
    {
     "data": {
      "text/plain": [
       "Index(['Country Name', 'Country Code', 'Indicator Name', 'Indicator Code',\n",
       "       '1960', '1961', '1962', '1963', '1964', '1965', '1966', '1967', '1968',\n",
       "       '1969', '1970', '1971', '1972', '1973', '1974', '1975', '1976', '1977',\n",
       "       '1978', '1979', '1980', '1981', '1982', '1983', '1984', '1985', '1986',\n",
       "       '1987', '1988', '1989', '1990', '1991', '1992', '1993', '1994', '1995',\n",
       "       '1996', '1997', '1998', '1999', '2000', '2001', '2002', '2003', '2004',\n",
       "       '2005', '2006', '2007', '2008', '2009', '2010', '2011', '2012', '2013',\n",
       "       '2014', '2015', '2016', '2017', '2018'],\n",
       "      dtype='object')"
      ]
     },
     "execution_count": 2,
     "metadata": {},
     "output_type": "execute_result"
    }
   ],
   "source": [
    "df.columns"
   ]
  },
  {
   "cell_type": "code",
   "execution_count": 3,
   "metadata": {},
   "outputs": [
    {
     "data": {
      "text/plain": [
       "Index(['Country Code', 'Region', 'IncomeGroup', 'SpecialNotes', 'TableName'], dtype='object')"
      ]
     },
     "execution_count": 3,
     "metadata": {},
     "output_type": "execute_result"
    }
   ],
   "source": [
    "countries.columns"
   ]
  },
  {
   "cell_type": "code",
   "execution_count": 4,
   "metadata": {},
   "outputs": [
    {
     "data": {
      "text/plain": [
       "Index(['INDICATOR_CODE', 'INDICATOR_NAME', 'SOURCE_NOTE',\n",
       "       'SOURCE_ORGANIZATION'],\n",
       "      dtype='object')"
      ]
     },
     "execution_count": 4,
     "metadata": {},
     "output_type": "execute_result"
    }
   ],
   "source": [
    "indicators.columns"
   ]
  },
  {
   "cell_type": "code",
   "execution_count": 5,
   "metadata": {},
   "outputs": [
    {
     "data": {
      "text/plain": [
       "Index(['Country Name', 'Country Code', 'Indicator Name', 'Indicator Code',\n",
       "       '1960', '1961', '1962', '1963', '1964', '1965', '1966', '1967', '1968',\n",
       "       '1969', '1970', '1971', '1972', '1973', '1974', '1975', '1976', '1977',\n",
       "       '1978', '1979', '1980', '1981', '1982', '1983', '1984', '1985', '1986',\n",
       "       '1987', '1988', '1989', '1990', '1991', '1992', '1993', '1994', '1995',\n",
       "       '1996', '1997', '1998', '1999', '2000', '2001', '2002', '2003', '2004',\n",
       "       '2005', '2006', '2007', '2008', '2009', '2010', '2011', '2012', '2013',\n",
       "       '2014', '2015', '2016', '2017', '2018', 'Region', 'IncomeGroup',\n",
       "       'SpecialNotes', 'TableName'],\n",
       "      dtype='object')"
      ]
     },
     "execution_count": 5,
     "metadata": {},
     "output_type": "execute_result"
    }
   ],
   "source": [
    "df1 = pd.merge(df, countries, on='Country Code')\n",
    "df1.columns"
   ]
  },
  {
   "cell_type": "code",
   "execution_count": 6,
   "metadata": {},
   "outputs": [
    {
     "data": {
      "text/plain": [
       "Index(['Country Name', 'Country Code', 'Indicator Name', 'Indicator Code',\n",
       "       '1960', '1961', '1962', '1963', '1964', '1965', '1966', '1967', '1968',\n",
       "       '1969', '1970', '1971', '1972', '1973', '1974', '1975', '1976', '1977',\n",
       "       '1978', '1979', '1980', '1981', '1982', '1983', '1984', '1985', '1986',\n",
       "       '1987', '1988', '1989', '1990', '1991', '1992', '1993', '1994', '1995',\n",
       "       '1996', '1997', '1998', '1999', '2000', '2001', '2002', '2003', '2004',\n",
       "       '2005', '2006', '2007', '2008', '2009', '2010', '2011', '2012', '2013',\n",
       "       '2014', '2015', '2016', '2017', '2018', 'Region', 'IncomeGroup',\n",
       "       'SpecialNotes', 'TableName', 'INDICATOR_CODE', 'INDICATOR_NAME',\n",
       "       'SOURCE_NOTE', 'SOURCE_ORGANIZATION'],\n",
       "      dtype='object')"
      ]
     },
     "execution_count": 6,
     "metadata": {},
     "output_type": "execute_result"
    }
   ],
   "source": [
    "df2 = pd.merge(df1, indicators, left_on='Indicator Code', right_on='INDICATOR_CODE')\n",
    "df2.columns"
   ]
  },
  {
   "cell_type": "code",
   "execution_count": 7,
   "metadata": {},
   "outputs": [
    {
     "data": {
      "text/plain": [
       "Index(['Country Name', 'Country Code', 'Indicator Name', 'Indicator Code',\n",
       "       '2000', '2001', '2002', '2003', '2004', '2005', '2006', '2007', '2008',\n",
       "       '2009', '2010', '2011', '2012', '2013', '2014', '2015', 'Region',\n",
       "       'IncomeGroup'],\n",
       "      dtype='object')"
      ]
     },
     "execution_count": 7,
     "metadata": {},
     "output_type": "execute_result"
    }
   ],
   "source": [
    "df3 = df2.drop(['1960', '1961', '1962', '1963', '1964', '1965', '1966', '1967', '1968', '1969', '1970', '1971', '1972', '1973', '1974', '1975', '1976', '1977', '1978', '1979', '1980', '1981', '1982', '1983', '1984', '1985', '1986', '1987', '1988', '1989', '1990', '1991', '1992', '1993', '1994', '1995', '1996', '1997', '1998', '1999', '2016', '2017', '2018', 'SpecialNotes', 'TableName', 'INDICATOR_CODE', 'INDICATOR_NAME','SOURCE_NOTE', 'SOURCE_ORGANIZATION'],axis=1)\n",
    "df3.columns"
   ]
  },
  {
   "cell_type": "code",
   "execution_count": 13,
   "metadata": {},
   "outputs": [
    {
     "name": "stdout",
     "output_type": "stream",
     "text": [
      "['Country Name', 'Country Code', '2014', '2015', 'Region', 'IncomeGroup', 'Indicator Name', 'Indicator Code', '2000', '2001', '2002', '2003', '2004', '2005', '2006', '2007', '2008', '2009', '2010', '2011', '2012', '2013']\n"
     ]
    }
   ],
   "source": [
    "# convert the columns to a list and reorder them\n",
    "cols = df3.columns.tolist()\n",
    "cols = cols[0:2] + cols[-2:] + cols[2:-2]\n",
    "print(cols)"
   ]
  },
  {
   "cell_type": "code",
   "execution_count": 10,
   "metadata": {},
   "outputs": [
    {
     "data": {
      "text/html": [
       "<div>\n",
       "<style scoped>\n",
       "    .dataframe tbody tr th:only-of-type {\n",
       "        vertical-align: middle;\n",
       "    }\n",
       "\n",
       "    .dataframe tbody tr th {\n",
       "        vertical-align: top;\n",
       "    }\n",
       "\n",
       "    .dataframe thead th {\n",
       "        text-align: right;\n",
       "    }\n",
       "</style>\n",
       "<table border=\"1\" class=\"dataframe\">\n",
       "  <thead>\n",
       "    <tr style=\"text-align: right;\">\n",
       "      <th></th>\n",
       "      <th>Country Name</th>\n",
       "      <th>Country Code</th>\n",
       "      <th>Region</th>\n",
       "      <th>IncomeGroup</th>\n",
       "      <th>Indicator Name</th>\n",
       "      <th>Indicator Code</th>\n",
       "      <th>2000</th>\n",
       "      <th>2001</th>\n",
       "      <th>2002</th>\n",
       "      <th>2003</th>\n",
       "      <th>...</th>\n",
       "      <th>2006</th>\n",
       "      <th>2007</th>\n",
       "      <th>2008</th>\n",
       "      <th>2009</th>\n",
       "      <th>2010</th>\n",
       "      <th>2011</th>\n",
       "      <th>2012</th>\n",
       "      <th>2013</th>\n",
       "      <th>2014</th>\n",
       "      <th>2015</th>\n",
       "    </tr>\n",
       "  </thead>\n",
       "  <tbody>\n",
       "    <tr>\n",
       "      <th>0</th>\n",
       "      <td>Aruba</td>\n",
       "      <td>ABW</td>\n",
       "      <td>Latin America &amp; Caribbean</td>\n",
       "      <td>High income</td>\n",
       "      <td>Population ages 15-64 (% of total)</td>\n",
       "      <td>SP.POP.1564.TO.ZS</td>\n",
       "      <td>69.240421</td>\n",
       "      <td>69.323344</td>\n",
       "      <td>69.421636</td>\n",
       "      <td>69.554820</td>\n",
       "      <td>...</td>\n",
       "      <td>69.856791</td>\n",
       "      <td>69.691761</td>\n",
       "      <td>69.448364</td>\n",
       "      <td>69.161089</td>\n",
       "      <td>68.838092</td>\n",
       "      <td>68.882835</td>\n",
       "      <td>68.976476</td>\n",
       "      <td>69.090099</td>\n",
       "      <td>69.165181</td>\n",
       "      <td>69.159774</td>\n",
       "    </tr>\n",
       "    <tr>\n",
       "      <th>1</th>\n",
       "      <td>Afghanistan</td>\n",
       "      <td>AFG</td>\n",
       "      <td>South Asia</td>\n",
       "      <td>Low income</td>\n",
       "      <td>Population ages 15-64 (% of total)</td>\n",
       "      <td>SP.POP.1564.TO.ZS</td>\n",
       "      <td>49.182015</td>\n",
       "      <td>49.278617</td>\n",
       "      <td>49.467248</td>\n",
       "      <td>49.701669</td>\n",
       "      <td>...</td>\n",
       "      <td>50.092162</td>\n",
       "      <td>49.942311</td>\n",
       "      <td>49.836413</td>\n",
       "      <td>49.815480</td>\n",
       "      <td>49.898603</td>\n",
       "      <td>50.319337</td>\n",
       "      <td>50.883182</td>\n",
       "      <td>51.545931</td>\n",
       "      <td>52.253100</td>\n",
       "      <td>52.974876</td>\n",
       "    </tr>\n",
       "    <tr>\n",
       "      <th>2</th>\n",
       "      <td>Angola</td>\n",
       "      <td>AGO</td>\n",
       "      <td>Sub-Saharan Africa</td>\n",
       "      <td>Lower middle income</td>\n",
       "      <td>Population ages 15-64 (% of total)</td>\n",
       "      <td>SP.POP.1564.TO.ZS</td>\n",
       "      <td>50.130735</td>\n",
       "      <td>50.123345</td>\n",
       "      <td>50.163814</td>\n",
       "      <td>50.232256</td>\n",
       "      <td>...</td>\n",
       "      <td>50.328685</td>\n",
       "      <td>50.292930</td>\n",
       "      <td>50.290849</td>\n",
       "      <td>50.317153</td>\n",
       "      <td>50.370243</td>\n",
       "      <td>50.327156</td>\n",
       "      <td>50.349958</td>\n",
       "      <td>50.416077</td>\n",
       "      <td>50.505664</td>\n",
       "      <td>50.613384</td>\n",
       "    </tr>\n",
       "    <tr>\n",
       "      <th>3</th>\n",
       "      <td>Albania</td>\n",
       "      <td>ALB</td>\n",
       "      <td>Europe &amp; Central Asia</td>\n",
       "      <td>Upper middle income</td>\n",
       "      <td>Population ages 15-64 (% of total)</td>\n",
       "      <td>SP.POP.1564.TO.ZS</td>\n",
       "      <td>62.662197</td>\n",
       "      <td>63.064436</td>\n",
       "      <td>63.513869</td>\n",
       "      <td>64.003112</td>\n",
       "      <td>...</td>\n",
       "      <td>65.524594</td>\n",
       "      <td>65.953748</td>\n",
       "      <td>66.316860</td>\n",
       "      <td>66.619749</td>\n",
       "      <td>66.860680</td>\n",
       "      <td>67.520815</td>\n",
       "      <td>68.110597</td>\n",
       "      <td>68.645567</td>\n",
       "      <td>69.103098</td>\n",
       "      <td>69.436421</td>\n",
       "    </tr>\n",
       "    <tr>\n",
       "      <th>4</th>\n",
       "      <td>Andorra</td>\n",
       "      <td>AND</td>\n",
       "      <td>Europe &amp; Central Asia</td>\n",
       "      <td>High income</td>\n",
       "      <td>Population ages 15-64 (% of total)</td>\n",
       "      <td>SP.POP.1564.TO.ZS</td>\n",
       "      <td>NaN</td>\n",
       "      <td>NaN</td>\n",
       "      <td>NaN</td>\n",
       "      <td>NaN</td>\n",
       "      <td>...</td>\n",
       "      <td>NaN</td>\n",
       "      <td>NaN</td>\n",
       "      <td>NaN</td>\n",
       "      <td>NaN</td>\n",
       "      <td>NaN</td>\n",
       "      <td>NaN</td>\n",
       "      <td>NaN</td>\n",
       "      <td>NaN</td>\n",
       "      <td>NaN</td>\n",
       "      <td>NaN</td>\n",
       "    </tr>\n",
       "  </tbody>\n",
       "</table>\n",
       "<p>5 rows × 22 columns</p>\n",
       "</div>"
      ],
      "text/plain": [
       "  Country Name Country Code                     Region          IncomeGroup  \\\n",
       "0        Aruba          ABW  Latin America & Caribbean          High income   \n",
       "1  Afghanistan          AFG                 South Asia           Low income   \n",
       "2       Angola          AGO         Sub-Saharan Africa  Lower middle income   \n",
       "3      Albania          ALB      Europe & Central Asia  Upper middle income   \n",
       "4      Andorra          AND      Europe & Central Asia          High income   \n",
       "\n",
       "                       Indicator Name     Indicator Code       2000  \\\n",
       "0  Population ages 15-64 (% of total)  SP.POP.1564.TO.ZS  69.240421   \n",
       "1  Population ages 15-64 (% of total)  SP.POP.1564.TO.ZS  49.182015   \n",
       "2  Population ages 15-64 (% of total)  SP.POP.1564.TO.ZS  50.130735   \n",
       "3  Population ages 15-64 (% of total)  SP.POP.1564.TO.ZS  62.662197   \n",
       "4  Population ages 15-64 (% of total)  SP.POP.1564.TO.ZS        NaN   \n",
       "\n",
       "        2001       2002       2003    ...           2006       2007  \\\n",
       "0  69.323344  69.421636  69.554820    ...      69.856791  69.691761   \n",
       "1  49.278617  49.467248  49.701669    ...      50.092162  49.942311   \n",
       "2  50.123345  50.163814  50.232256    ...      50.328685  50.292930   \n",
       "3  63.064436  63.513869  64.003112    ...      65.524594  65.953748   \n",
       "4        NaN        NaN        NaN    ...            NaN        NaN   \n",
       "\n",
       "        2008       2009       2010       2011       2012       2013  \\\n",
       "0  69.448364  69.161089  68.838092  68.882835  68.976476  69.090099   \n",
       "1  49.836413  49.815480  49.898603  50.319337  50.883182  51.545931   \n",
       "2  50.290849  50.317153  50.370243  50.327156  50.349958  50.416077   \n",
       "3  66.316860  66.619749  66.860680  67.520815  68.110597  68.645567   \n",
       "4        NaN        NaN        NaN        NaN        NaN        NaN   \n",
       "\n",
       "        2014       2015  \n",
       "0  69.165181  69.159774  \n",
       "1  52.253100  52.974876  \n",
       "2  50.505664  50.613384  \n",
       "3  69.103098  69.436421  \n",
       "4        NaN        NaN  \n",
       "\n",
       "[5 rows x 22 columns]"
      ]
     },
     "execution_count": 10,
     "metadata": {},
     "output_type": "execute_result"
    }
   ],
   "source": [
    "df3 = df3[cols]\n",
    "df3.head()"
   ]
  }
 ],
 "metadata": {
  "kernelspec": {
   "display_name": "Python 3",
   "language": "python",
   "name": "python3"
  },
  "language_info": {
   "codemirror_mode": {
    "name": "ipython",
    "version": 3
   },
   "file_extension": ".py",
   "mimetype": "text/x-python",
   "name": "python",
   "nbconvert_exporter": "python",
   "pygments_lexer": "ipython3",
   "version": "3.7.1"
  }
 },
 "nbformat": 4,
 "nbformat_minor": 2
}
